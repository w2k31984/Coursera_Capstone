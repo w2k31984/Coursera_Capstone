{
 "cells": [
  {
   "cell_type": "markdown",
   "id": "07e0921d",
   "metadata": {},
   "source": [
    "# Proyecto Capstone - La batalla de los Vecindarios (Semana 1 - Parte 1)\n",
    "<h3><p>Proyecto Final de Certificacion en Ciencia de Datos por IBM/Coursera con el apoyo de TalentoTech El Salvador</p></h3>\n",
    "<h4><p>Presentado por: Cristian Parada</p></h4>\n",
    "<h2>Introducción: Problema de negocio</h2>"
   ]
  },
  {
   "cell_type": "markdown",
   "id": "68822846",
   "metadata": {},
   "source": [
    "<p>En este proyecto vamos a tratar de encontrar el mejor apartamento en alquiler debido a una oferta de trabajo. Este proyecto está dirigido a todos los que puedan estar interesados en saber más acerca de los precios de alquiler de casas y  apartamentos, las estadísticas de las ciudades o simplemente quieren mudarse a San Salvador, El Salvador, en America Central.</p>\n",
    "\n",
    "<p>Como nuestra oferta de trabajo es para una dirección específica, hemos seleccionado algunas ciudades cercanas para vivir. A pesar de que hemos seleccionado estas ciudades, todavía hay una gran cantidad de apartamentos y casas en alquiler. Tenemos algunas exigencias con respecto a los lugares cercanos, y que se tendrán en cuenta para elegir nuestra casa o apartamento.</p>\n",
    "\n",
    "<p>Utilizaremos nuestras técnicas en ciencia de datos para generar las casas o apartamentos más prometedores para vivir. En el proceso se tendrán en cuenta datos económicos y características sociales de las ciudades que conforman el Gran San Salvador.</p>\n",
    "\n"
   ]
  }
 ],
 "metadata": {
  "kernelspec": {
   "display_name": "Python 3 (ipykernel)",
   "language": "python",
   "name": "python3"
  },
  "language_info": {
   "codemirror_mode": {
    "name": "ipython",
    "version": 3
   },
   "file_extension": ".py",
   "mimetype": "text/x-python",
   "name": "python",
   "nbconvert_exporter": "python",
   "pygments_lexer": "ipython3",
   "version": "3.9.11"
  }
 },
 "nbformat": 4,
 "nbformat_minor": 5
}
