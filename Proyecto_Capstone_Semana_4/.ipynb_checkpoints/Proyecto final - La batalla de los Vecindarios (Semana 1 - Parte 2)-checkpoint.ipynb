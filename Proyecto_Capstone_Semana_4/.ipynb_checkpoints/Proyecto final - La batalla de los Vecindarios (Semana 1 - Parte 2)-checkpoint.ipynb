{
 "cells": [
  {
   "cell_type": "markdown",
   "id": "c51469c4",
   "metadata": {},
   "source": [
    "# Proyecto Capstone - La batalla de los Vecindarios (Semana 1 - Parte 2)\n",
    "<h3><p>Proyecto Final de Certificacion en Ciencia de Datos por IBM/Coursera con el apoyo de TalentoTech El Salvador</p></h3>\n",
    "<h4><p>Presentado por: Cristian Parada</p></h4>\n",
    "<h2>Datos.</h2>"
   ]
  },
  {
   "cell_type": "markdown",
   "id": "25a66742",
   "metadata": {},
   "source": [
    "A partir de la definición de nuestro problema, los factores que influirán en nuestra decisión son:\n",
    "<p>-El apartamento debe tener al menos 2 dormitorios.</p>\n",
    "<p>-El valor mensual del alquiler no puede superar USD 1000.00. </p>\n",
    "<p>-Tiene que estar al menos a 15 km del lugar de trabajo.</p>\n",
    "<p>-Tiene que estar cerca de al menos 5 km de un gimnasio y un mercado o supermercado.</p>\n",
    "<p>-Características sociales y económicas del lugar según los datos disponibles.<p>\n",
    "<p>-Decidimos seleccionar algunos barrios de los alrededores de nuestro lugar de trabajo para extraer nuestros datos.</p>\n",
    "\n",
    "Se necesitarán las siguientes fuentes de datos para extraer/generar la información necesaria:\n",
    "<p>-Las coordenadas del lugar de trabajo se obtendrán mediante geocodificador.</p>\n",
    "<p>-Los datos económicos y de ubicación de las viviendas de alquiler alrededor del lugar de trabajo se obtendrán mediante webscraping de varios portales en línea.</p>\n",
    "<p>-Los locales cercanos alrededor de cada barrio se obtendrán mediante la API de Foursquare.</p>"
   ]
  }
 ],
 "metadata": {
  "kernelspec": {
   "display_name": "Python 3 (ipykernel)",
   "language": "python",
   "name": "python3"
  },
  "language_info": {
   "codemirror_mode": {
    "name": "ipython",
    "version": 3
   },
   "file_extension": ".py",
   "mimetype": "text/x-python",
   "name": "python",
   "nbconvert_exporter": "python",
   "pygments_lexer": "ipython3",
   "version": "3.9.11"
  }
 },
 "nbformat": 4,
 "nbformat_minor": 5
}
