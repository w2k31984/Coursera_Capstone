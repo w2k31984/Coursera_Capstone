{
 "cells": [
  {
   "cell_type": "markdown",
   "id": "0caef2cf-30e3-4537-8909-327861c38510",
   "metadata": {},
   "source": [
    "## Coursera Capstone Semana 3 parte 1"
   ]
  },
  {
   "cell_type": "markdown",
   "id": "d5118610-8c34-4971-933b-1899f175efe0",
   "metadata": {},
   "source": [
    "<p>El marco de datos constará de tres columnas: Código Postal, Municipio y Barrio.</p>\n",
    "<p>Procese sólo las celdas que tengan un municipio asignado. Ignore las celdas con un distrito no asignado.\n",
    "En un área de código postal puede existir más de un barrio. Por ejemplo, en la tabla de la página de Wikipedia, observará que M5A aparece dos veces y tiene dos barrios: Harbourfront y Regent Park. Estas dos filas se combinarán en una sola con los barrios separados por una coma, como se muestra en la fila 11 de la tabla anterior.</p>\n",
    "<p>Si una celda tiene un municipio pero un barrio no asignado, el barrio será el mismo que el municipio.\n",
    "Limpia tu cuaderno y añade celdas Markdown para explicar tu trabajo y cualquier suposición que estés haciendo.\n",
    "En la última celda de tu cuaderno, utiliza el método .shape para imprimir el número de filas de tu dataframe.</p>"
   ]
  },
  {
   "cell_type": "code",
   "execution_count": 8,
   "id": "90fe39ad-44e2-441b-be06-0ca96aac883b",
   "metadata": {},
   "outputs": [
    {
     "ename": "ModuleNotFoundError",
     "evalue": "No module named 'pandas'",
     "output_type": "error",
     "traceback": [
      "\u001b[1;31m---------------------------------------------------------------------------\u001b[0m",
      "\u001b[1;31mModuleNotFoundError\u001b[0m                       Traceback (most recent call last)",
      "Cell \u001b[1;32mIn[8], line 3\u001b[0m\n\u001b[0;32m      1\u001b[0m \u001b[39m# importando librerias a utilizar\u001b[39;00m\n\u001b[0;32m      2\u001b[0m \u001b[39mimport\u001b[39;00m \u001b[39mnumpy\u001b[39;00m \u001b[39mas\u001b[39;00m \u001b[39mnp\u001b[39;00m\n\u001b[1;32m----> 3\u001b[0m \u001b[39mimport\u001b[39;00m \u001b[39mpandas\u001b[39;00m \u001b[39mas\u001b[39;00m \u001b[39mpd\u001b[39;00m\n\u001b[0;32m      4\u001b[0m \u001b[39mprint\u001b[39m(\u001b[39m'\u001b[39m\u001b[39mImportacion Completada\u001b[39m\u001b[39m'\u001b[39m)\n",
      "\u001b[1;31mModuleNotFoundError\u001b[0m: No module named 'pandas'"
     ]
    }
   ],
   "source": [
    "# importando librerias a utilizar\n",
    "import numpy as np\n",
    "import pandas as pd\n",
    "print('Importacion Completada')"
   ]
  },
  {
   "cell_type": "markdown",
   "id": "314a3388-f060-4aea-8084-5aaa479765cd",
   "metadata": {},
   "source": [
    "<p>Utilizaremos la biblioteca pandas para transformar los datos de la tabla de la página de Wikipedia en el marco de datos.</p>"
   ]
  },
  {
   "cell_type": "code",
   "execution_count": 7,
   "id": "5335806c-3fe4-4447-8e28-429ff149f20d",
   "metadata": {},
   "outputs": [
    {
     "ename": "NameError",
     "evalue": "name 'pd' is not defined",
     "output_type": "error",
     "traceback": [
      "\u001b[1;31m---------------------------------------------------------------------------\u001b[0m",
      "\u001b[1;31mNameError\u001b[0m                                 Traceback (most recent call last)",
      "Cell \u001b[1;32mIn[7], line 3\u001b[0m\n\u001b[0;32m      1\u001b[0m \u001b[39m#Utilizando la biblioteca pandas para transformar los datos desde Wikipedia y mostrando los datos de DataFrame.\u001b[39;00m\n\u001b[0;32m      2\u001b[0m url \u001b[39m=\u001b[39m \u001b[39m'\u001b[39m\u001b[39mhttps://en.wikipedia.org/w/index.php?title=List_of_postal_codes_of_Canada:_M&oldid=1011037969\u001b[39m\u001b[39m'\u001b[39m\n\u001b[1;32m----> 3\u001b[0m df \u001b[39m=\u001b[39m pd\u001b[39m.\u001b[39mread_html(url)[\u001b[39m0\u001b[39m]\n\u001b[0;32m      4\u001b[0m df\u001b[39m.\u001b[39mhead(n\u001b[39m=\u001b[39m\u001b[39m10\u001b[39m)\n",
      "\u001b[1;31mNameError\u001b[0m: name 'pd' is not defined"
     ]
    }
   ],
   "source": [
    "#Utilizando la biblioteca pandas para transformar los datos desde Wikipedia y mostrando los datos de DataFrame.\n",
    "url = 'https://en.wikipedia.org/w/index.php?title=List_of_postal_codes_of_Canada:_M&oldid=1011037969'\n",
    "df = pd.read_html(url)[0]\n",
    "df.head(n=10)"
   ]
  },
  {
   "cell_type": "code",
   "execution_count": null,
   "id": "1d87c0ea-4375-4151-958f-b2c19ab227d2",
   "metadata": {},
   "outputs": [
    {
     "data": {
      "text/html": [
       "<div>\n",
       "<style scoped>\n",
       "    .dataframe tbody tr th:only-of-type {\n",
       "        vertical-align: middle;\n",
       "    }\n",
       "\n",
       "    .dataframe tbody tr th {\n",
       "        vertical-align: top;\n",
       "    }\n",
       "\n",
       "    .dataframe thead th {\n",
       "        text-align: right;\n",
       "    }\n",
       "</style>\n",
       "<table border=\"1\" class=\"dataframe\">\n",
       "  <thead>\n",
       "    <tr style=\"text-align: right;\">\n",
       "      <th></th>\n",
       "      <th>Postal Code</th>\n",
       "      <th>Borough</th>\n",
       "      <th>Neighbourhood</th>\n",
       "    </tr>\n",
       "  </thead>\n",
       "  <tbody>\n",
       "    <tr>\n",
       "      <th>2</th>\n",
       "      <td>M3A</td>\n",
       "      <td>North York</td>\n",
       "      <td>Parkwoods</td>\n",
       "    </tr>\n",
       "    <tr>\n",
       "      <th>3</th>\n",
       "      <td>M4A</td>\n",
       "      <td>North York</td>\n",
       "      <td>Victoria Village</td>\n",
       "    </tr>\n",
       "    <tr>\n",
       "      <th>4</th>\n",
       "      <td>M5A</td>\n",
       "      <td>Downtown Toronto</td>\n",
       "      <td>Regent Park, Harbourfront</td>\n",
       "    </tr>\n",
       "    <tr>\n",
       "      <th>5</th>\n",
       "      <td>M6A</td>\n",
       "      <td>North York</td>\n",
       "      <td>Lawrence Manor, Lawrence Heights</td>\n",
       "    </tr>\n",
       "    <tr>\n",
       "      <th>6</th>\n",
       "      <td>M7A</td>\n",
       "      <td>Downtown Toronto</td>\n",
       "      <td>Queen's Park, Ontario Provincial Government</td>\n",
       "    </tr>\n",
       "    <tr>\n",
       "      <th>8</th>\n",
       "      <td>M9A</td>\n",
       "      <td>Etobicoke</td>\n",
       "      <td>Islington Avenue, Humber Valley Village</td>\n",
       "    </tr>\n",
       "    <tr>\n",
       "      <th>9</th>\n",
       "      <td>M1B</td>\n",
       "      <td>Scarborough</td>\n",
       "      <td>Malvern, Rouge</td>\n",
       "    </tr>\n",
       "    <tr>\n",
       "      <th>11</th>\n",
       "      <td>M3B</td>\n",
       "      <td>North York</td>\n",
       "      <td>Don Mills</td>\n",
       "    </tr>\n",
       "    <tr>\n",
       "      <th>12</th>\n",
       "      <td>M4B</td>\n",
       "      <td>East York</td>\n",
       "      <td>Parkview Hill, Woodbine Gardens</td>\n",
       "    </tr>\n",
       "    <tr>\n",
       "      <th>13</th>\n",
       "      <td>M5B</td>\n",
       "      <td>Downtown Toronto</td>\n",
       "      <td>Garden District, Ryerson</td>\n",
       "    </tr>\n",
       "  </tbody>\n",
       "</table>\n",
       "</div>"
      ],
      "text/plain": [
       "   Postal Code           Borough                                Neighbourhood\n",
       "2          M3A        North York                                    Parkwoods\n",
       "3          M4A        North York                             Victoria Village\n",
       "4          M5A  Downtown Toronto                    Regent Park, Harbourfront\n",
       "5          M6A        North York             Lawrence Manor, Lawrence Heights\n",
       "6          M7A  Downtown Toronto  Queen's Park, Ontario Provincial Government\n",
       "8          M9A         Etobicoke      Islington Avenue, Humber Valley Village\n",
       "9          M1B       Scarborough                               Malvern, Rouge\n",
       "11         M3B        North York                                    Don Mills\n",
       "12         M4B         East York              Parkview Hill, Woodbine Gardens\n",
       "13         M5B  Downtown Toronto                     Garden District, Ryerson"
      ]
     },
     "execution_count": 8,
     "metadata": {},
     "output_type": "execute_result"
    }
   ],
   "source": [
    "# Ignorar las celdas con un municipio (Borough) No asignado.\n",
    "df = df[df['Borough'] != 'Not assigned']\n",
    "df.head(n=10)"
   ]
  },
  {
   "cell_type": "code",
   "execution_count": null,
   "id": "d461c430-9aac-4775-911b-8e999068a6df",
   "metadata": {},
   "outputs": [
    {
     "ename": "NameError",
     "evalue": "name 'df' is not defined",
     "output_type": "error",
     "traceback": [
      "\u001b[1;31m---------------------------------------------------------------------------\u001b[0m",
      "\u001b[1;31mNameError\u001b[0m                                 Traceback (most recent call last)",
      "Cell \u001b[1;32mIn[3], line 8\u001b[0m\n\u001b[0;32m      1\u001b[0m \u001b[39m# En una zona de código postal puede existir más de un barrio. \u001b[39;00m\n\u001b[0;32m      2\u001b[0m \u001b[39m# Por ejemplo, en la tabla de la página de Wikipedia, \u001b[39;00m\n\u001b[0;32m      3\u001b[0m \u001b[39m# M5A aparece dos veces y tiene dos barrios: Harbourfront y Regent Park. \u001b[39;00m\n\u001b[1;32m   (...)\u001b[0m\n\u001b[0;32m      6\u001b[0m \n\u001b[0;32m      7\u001b[0m \u001b[39m# Usar groupby, seguido de transform - produciendo un DataFrame con valores transformados\u001b[39;00m\n\u001b[1;32m----> 8\u001b[0m df[\u001b[39m'\u001b[39m\u001b[39mNeighbourhood\u001b[39m\u001b[39m'\u001b[39m] \u001b[39m=\u001b[39m df\u001b[39m.\u001b[39mgroupby(\u001b[39m'\u001b[39m\u001b[39mPostal Code\u001b[39m\u001b[39m'\u001b[39m)[\u001b[39m'\u001b[39m\u001b[39mNeighbourhood\u001b[39m\u001b[39m'\u001b[39m]\u001b[39m.\u001b[39mtransform(\u001b[39mlambda\u001b[39;00m x: \u001b[39m'\u001b[39m\u001b[39m, \u001b[39m\u001b[39m'\u001b[39m\u001b[39m.\u001b[39mjoin(x))\n\u001b[0;32m      9\u001b[0m df\u001b[39m.\u001b[39mhead(n\u001b[39m=\u001b[39m\u001b[39m10\u001b[39m)\n",
      "\u001b[1;31mNameError\u001b[0m: name 'df' is not defined"
     ]
    }
   ],
   "source": [
    "# En una zona de código postal puede existir más de un barrio. \n",
    "# Por ejemplo, en la tabla de la página de Wikipedia, \n",
    "# M5A aparece dos veces y tiene dos barrios: Harbourfront y Regent Park. \n",
    "# Combine estos dos en una fila con los barrios\n",
    "# separados por una coma.\n",
    "\n",
    "# Usar groupby, seguido de transform - produciendo un DataFrame con valores transformados\n",
    "df['Neighbourhood'] = df.groupby('Postal Code')['Neighbourhood'].transform(lambda x: ', '.join(x))\n",
    "df.head(n=10)"
   ]
  },
  {
   "cell_type": "code",
   "execution_count": null,
   "id": "d1977fa8-4f6e-48a0-bd7a-b5a69d36861b",
   "metadata": {},
   "outputs": [
    {
     "ename": "NameError",
     "evalue": "name 'df' is not defined",
     "output_type": "error",
     "traceback": [
      "\u001b[1;31m---------------------------------------------------------------------------\u001b[0m",
      "\u001b[1;31mNameError\u001b[0m                                 Traceback (most recent call last)",
      "Cell \u001b[1;32mIn[2], line 2\u001b[0m\n\u001b[0;32m      1\u001b[0m \u001b[39m# La celda tiene un municipio pero un barrio No asignado, entonces el barrio será el mismo que el municipio.\u001b[39;00m\n\u001b[1;32m----> 2\u001b[0m mode \u001b[39m=\u001b[39mdf[df[\u001b[39m'\u001b[39m\u001b[39mNeighbourhood\u001b[39m\u001b[39m'\u001b[39m]\u001b[39m!=\u001b[39m\u001b[39m\"\u001b[39m\u001b[39mNot assigned\u001b[39m\u001b[39m\"\u001b[39m][\u001b[39m'\u001b[39m\u001b[39mNeighbourhood\u001b[39m\u001b[39m'\u001b[39m]\u001b[39m.\u001b[39mmode()[\u001b[39m0\u001b[39m]\n\u001b[0;32m      3\u001b[0m df\u001b[39m.\u001b[39mhead(n\u001b[39m=\u001b[39m\u001b[39m10\u001b[39m)\n",
      "\u001b[1;31mNameError\u001b[0m: name 'df' is not defined"
     ]
    }
   ],
   "source": [
    "# La celda tiene un municipio pero un barrio No asignado, entonces el barrio será el mismo que el municipio.\n",
    "mode =df[df['Neighbourhood']!=\"Not assigned\"]['Neighbourhood'].mode()[0]\n",
    "df.head(n=10)"
   ]
  },
  {
   "cell_type": "code",
   "execution_count": null,
   "id": "f9301155-ae89-4d81-a953-4e6fb0a03b93",
   "metadata": {},
   "outputs": [
    {
     "ename": "NameError",
     "evalue": "name 'df' is not defined",
     "output_type": "error",
     "traceback": [
      "\u001b[1;31m---------------------------------------------------------------------------\u001b[0m",
      "\u001b[1;31mNameError\u001b[0m                                 Traceback (most recent call last)",
      "Cell \u001b[1;32mIn[1], line 2\u001b[0m\n\u001b[0;32m      1\u001b[0m \u001b[39m# En la última celda de nuestro cuaderno, utilizaremos el método .shape para imprimir el número de filas\u001b[39;00m\n\u001b[1;32m----> 2\u001b[0m \u001b[39mprint\u001b[39m(\u001b[39mf\u001b[39m\u001b[39m'\u001b[39m\u001b[39mNuestro dataframe tiene \u001b[39m\u001b[39m{\u001b[39;00mdf\u001b[39m.\u001b[39mshape[\u001b[39m0\u001b[39m]\u001b[39m}\u001b[39;00m\u001b[39m Filas.\u001b[39m\u001b[39m'\u001b[39m)\n",
      "\u001b[1;31mNameError\u001b[0m: name 'df' is not defined"
     ]
    }
   ],
   "source": [
    "# En la última celda de nuestro cuaderno, utilizaremos el método .shape para imprimir el número de filas\n",
    "print(f'Nuestro dataframe tiene {df.shape[0]} Filas.')"
   ]
  }
 ],
 "metadata": {
  "kernelspec": {
   "display_name": "Python 3",
   "language": "python",
   "name": "python3"
  },
  "language_info": {
   "codemirror_mode": {
    "name": "ipython",
    "version": 3
   },
   "file_extension": ".py",
   "mimetype": "text/x-python",
   "name": "python",
   "nbconvert_exporter": "python",
   "pygments_lexer": "ipython3",
   "version": "3.9.11"
  },
  "vscode": {
   "interpreter": {
    "hash": "c58cfa9a8bdcee67dc8db0820f26536bec3946c10eb816ad0b8eae145ee2eebe"
   }
  }
 },
 "nbformat": 4,
 "nbformat_minor": 5
}
